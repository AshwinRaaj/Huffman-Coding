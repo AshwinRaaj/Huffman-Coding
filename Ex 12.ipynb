{
 "cells": [
  {
   "cell_type": "code",
   "execution_count": 1,
   "id": "cad785aa",
   "metadata": {},
   "outputs": [],
   "source": [
    "string = \"212221230008 ASHWIN RAAJ S\""
   ]
  },
  {
   "cell_type": "code",
   "execution_count": 2,
   "id": "d696ed3e",
   "metadata": {},
   "outputs": [],
   "source": [
    "# Create tree nodes\n",
    "class node_tree(object):\n",
    "    def __init__(self,left=None,right=None):\n",
    "        self.left = left\n",
    "        self.right=right\n",
    "    def children(self):\n",
    "        return(self.left,self.right)\n",
    "\n",
    "def huffman_code_tree(node,left=True,binString=''):\n",
    "    if type(node) is str:\n",
    "        return {node:binString}\n",
    "    (l,r) = node.children()\n",
    "    d=dict()\n",
    "    d.update(huffman_code_tree(l,True,binString+'0'))\n",
    "    d.update(huffman_code_tree(r,False,binString+'1'))\n",
    "    return d"
   ]
  },
  {
   "cell_type": "code",
   "execution_count": 3,
   "id": "dc311afb",
   "metadata": {},
   "outputs": [],
   "source": [
    "# Main function to implement huffman coding\n",
    "freq = {}\n",
    "for c in string:\n",
    "    if c in freq:\n",
    "        freq[c] += 1\n",
    "    else:\n",
    "        freq[c] = 1\n",
    "freq = sorted(freq.items(), key=lambda x: x[1], reverse=True)\n",
    "nodes=freq"
   ]
  },
  {
   "cell_type": "code",
   "execution_count": 4,
   "id": "1e8e9b1f",
   "metadata": {},
   "outputs": [],
   "source": [
    "# Calculate frequency of occurrence\n",
    "while len(nodes) > 1:\n",
    "    (key1,c1)=nodes[-1]\n",
    "    (key2,c2)=nodes[-2]\n",
    "    nodes=nodes[:-2]\n",
    "    node = node_tree(key1,key2)\n",
    "    nodes.append((node,c1+c2))\n",
    "    nodes = sorted(nodes,key=lambda x: x[1],reverse = True)"
   ]
  },
  {
   "cell_type": "code",
   "execution_count": 5,
   "id": "2091ddbd",
   "metadata": {},
   "outputs": [
    {
     "name": "stdout",
     "output_type": "stream",
     "text": [
      " Char | Huffman code \n",
      "---------------------\n",
      " '2'  |          00\n",
      " '0'  |         100\n",
      " ' '  |         011\n",
      " 'A'  |         010\n",
      " '1'  |        1011\n",
      " 'S'  |        1010\n",
      " '3'  |       11101\n",
      " '8'  |       11100\n",
      " 'H'  |       11111\n",
      " 'W'  |       11110\n",
      " 'I'  |       11001\n",
      " 'N'  |       11000\n",
      " 'R'  |       11011\n",
      " 'J'  |       11010\n"
     ]
    }
   ],
   "source": [
    "# Print the characters and its huffmancode\n",
    "huffcode=huffman_code_tree(nodes[0][0])\n",
    "\n",
    "print(' Char | Huffman code ')\n",
    "print('---------------------')\n",
    "for (char,frequency)in freq:\n",
    "    print(' %-4r |%12s'%(char,huffcode[char]))"
   ]
  },
  {
   "cell_type": "code",
   "execution_count": null,
   "id": "360ba435",
   "metadata": {},
   "outputs": [],
   "source": []
  }
 ],
 "metadata": {
  "kernelspec": {
   "display_name": "Python 3 (ipykernel)",
   "language": "python",
   "name": "python3"
  },
  "language_info": {
   "codemirror_mode": {
    "name": "ipython",
    "version": 3
   },
   "file_extension": ".py",
   "mimetype": "text/x-python",
   "name": "python",
   "nbconvert_exporter": "python",
   "pygments_lexer": "ipython3",
   "version": "3.9.7"
  }
 },
 "nbformat": 4,
 "nbformat_minor": 5
}
